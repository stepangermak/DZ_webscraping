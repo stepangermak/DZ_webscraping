{
 "cells": [
  {
   "cell_type": "markdown",
   "metadata": {},
   "source": [
    "Задание 1.\n",
    "Обязательная часть\n",
    "Будем парсить страницу со свежеми новостям на habr.com/ru/all/.\n",
    "\n",
    "Вам необходимо собирать только те статьи, в которых встречается хотя бы одно требуемое ключевое слово. Эти слова определяем в начале кода в переменной, например:\n",
    "\n",
    "KEYWORDS = ['python', 'парсинг']\n",
    "\n",
    "Поиск вести по всей доступной preview-информации (это информация, доступная непосредственно с текущей страницы).\n",
    "\n",
    "В итоге должен формироваться датафрейм вида: <дата> - <заголовок> - <ссылка>\n",
    "\n",
    "Дополнительная часть (необязательная)¶\n",
    "Улучшить скрипт так, чтобы он анализировал не только preview-информацию статьи, но и весь текст статьи целиком.\n",
    "\n",
    "Для этого потребуется получать страницы статей и искать по тексту внутри этой страницы.\n",
    "\n",
    "Итоговый датафрейм формировать со столбцами: <дата> - <заголовок> - <ссылка> - <текст_статьи>"
   ]
  },
  {
   "cell_type": "code",
   "execution_count": 1,
   "metadata": {},
   "outputs": [],
   "source": [
    "import requests\n",
    "from bs4 import BeautifulSoup\n",
    "import pandas as pd\n",
    "import json"
   ]
  },
  {
   "cell_type": "code",
   "execution_count": 3,
   "metadata": {},
   "outputs": [
    {
     "data": {
      "text/plain": [
       "<Response [200]>"
      ]
     },
     "execution_count": 3,
     "metadata": {},
     "output_type": "execute_result"
    }
   ],
   "source": [
    "KEYWORDS = ['python', 'парсинг']\n",
    "\n",
    "habr = requests.get('https://habr.com/ru/all/')\n",
    "habr"
   ]
  },
  {
   "cell_type": "code",
   "execution_count": 4,
   "metadata": {},
   "outputs": [],
   "source": [
    "soup = BeautifulSoup(habr.text, 'html.parser')\n",
    "posts = soup.find_all('article', class_='post post_preview')"
   ]
  },
  {
   "cell_type": "code",
   "execution_count": 8,
   "metadata": {},
   "outputs": [
    {
     "data": {
      "text/html": [
       "<div>\n",
       "<style scoped>\n",
       "    .dataframe tbody tr th:only-of-type {\n",
       "        vertical-align: middle;\n",
       "    }\n",
       "\n",
       "    .dataframe tbody tr th {\n",
       "        vertical-align: top;\n",
       "    }\n",
       "\n",
       "    .dataframe thead th {\n",
       "        text-align: right;\n",
       "    }\n",
       "</style>\n",
       "<table border=\"1\" class=\"dataframe\">\n",
       "  <thead>\n",
       "    <tr style=\"text-align: right;\">\n",
       "      <th></th>\n",
       "      <th>data</th>\n",
       "      <th>title</th>\n",
       "      <th>url</th>\n",
       "    </tr>\n",
       "  </thead>\n",
       "  <tbody>\n",
       "    <tr>\n",
       "      <th>0</th>\n",
       "      <td>сегодня в 16:28</td>\n",
       "      <td>Введение в обработку изображений в Python при ...</td>\n",
       "      <td>https://habr.com/ru/post/530800/</td>\n",
       "    </tr>\n",
       "  </tbody>\n",
       "</table>\n",
       "</div>"
      ],
      "text/plain": [
       "              data                                              title  \\\n",
       "0  сегодня в 16:28  Введение в обработку изображений в Python при ...   \n",
       "\n",
       "                                url  \n",
       "0  https://habr.com/ru/post/530800/  "
      ]
     },
     "execution_count": 8,
     "metadata": {},
     "output_type": "execute_result"
    }
   ],
   "source": [
    "dc_review = {'data': [], 'title': [], 'url': []}\n",
    "\n",
    "for post in posts:\n",
    "    post_title = post.contents[3].contents[1].contents[0]\n",
    "    post_url = post.contents[3].contents[1]['href']\n",
    "    post_time = post.contents[1].contents[3].contents[0]\n",
    "    post_text = post.find_all('div', class_='post__text')\n",
    "    if any(word.lower() in str(post_text).lower() for word in KEYWORDS):\n",
    "        dc_review['data'].append(post_time)\n",
    "        dc_review['title'].append(post_title)\n",
    "        dc_review['url'].append(post_url)\n",
    "        \n",
    "df = pd.DataFrame(dc_review)\n",
    "df.head()"
   ]
  },
  {
   "cell_type": "markdown",
   "metadata": {},
   "source": [
    "Задание 2.\n",
    "Обязательная часть\n",
    "Написать скрипт, который будет проверять список e-mail адресов на утечку при помощи сервиса Avast Hack Ckeck. Список email-ов задаем переменной в начале кода:\n",
    "EMAIL = [xxx@x.ru, yyy@y.com]\n",
    "\n",
    "В итоге должен формироваться датафрейм со столбцами: <почта> - <дата утечки> - <источник утечки> - <описание утечки>\n",
    "\n",
    "Подсказка: сервис работает при помощи \"скрытого\" API. Внимательно изучите post-запросы.\n",
    "\n",
    "Дополнительная часть (необязательная)\n",
    "Написать скрипт, который будет получать 50 последних постов указанной группы во Вконтакте.\n",
    "Документация к API VK: https://vk.com/dev/methods , вам поможет метод wall.get\n",
    "\n",
    "GROUP = 'netology'  \n",
    "TOKEN = УДАЛЯЙТЕ В ВЕРСИИ ДЛЯ ПРОВЕРКИ, НА GITHUB НЕ ВЫКЛАДЫВАТЬ\n",
    "В итоге должен формироваться датафрейм со столбцами: <дата поста> - <текст поста>"
   ]
  },
  {
   "cell_type": "code",
   "execution_count": 9,
   "metadata": {},
   "outputs": [
    {
     "data": {
      "text/html": [
       "<div>\n",
       "<style scoped>\n",
       "    .dataframe tbody tr th:only-of-type {\n",
       "        vertical-align: middle;\n",
       "    }\n",
       "\n",
       "    .dataframe tbody tr th {\n",
       "        vertical-align: top;\n",
       "    }\n",
       "\n",
       "    .dataframe thead th {\n",
       "        text-align: right;\n",
       "    }\n",
       "</style>\n",
       "<table border=\"1\" class=\"dataframe\">\n",
       "  <thead>\n",
       "    <tr style=\"text-align: right;\">\n",
       "      <th></th>\n",
       "      <th>email</th>\n",
       "      <th>data</th>\n",
       "      <th>source</th>\n",
       "      <th>text</th>\n",
       "    </tr>\n",
       "  </thead>\n",
       "  <tbody>\n",
       "    <tr>\n",
       "      <th>0</th>\n",
       "      <td>stepan.germak@gmail.com</td>\n",
       "      <td>2018-03-20T00:00:00Z</td>\n",
       "      <td>myfitnesspal.com</td>\n",
       "      <td>In February 2018, MyFitnessPal's database was ...</td>\n",
       "    </tr>\n",
       "    <tr>\n",
       "      <th>1</th>\n",
       "      <td>anna2012@mail.ru</td>\n",
       "      <td>2017-04-14T00:00:00Z</td>\n",
       "      <td>streamcraft.net</td>\n",
       "      <td>At an unconfirmed date, StreamCraft's user dat...</td>\n",
       "    </tr>\n",
       "    <tr>\n",
       "      <th>2</th>\n",
       "      <td>anna2012@mail.ru</td>\n",
       "      <td>2016-10-29T00:00:00Z</td>\n",
       "      <td>vk.com</td>\n",
       "      <td>Popular Russian social networking platform VKo...</td>\n",
       "    </tr>\n",
       "    <tr>\n",
       "      <th>3</th>\n",
       "      <td>anna2012@mail.ru</td>\n",
       "      <td>2016-10-21T00:00:00Z</td>\n",
       "      <td>adobe.com</td>\n",
       "      <td>In October of 2013, criminals penetrated Adobe...</td>\n",
       "    </tr>\n",
       "    <tr>\n",
       "      <th>4</th>\n",
       "      <td>anna2012@mail.ru</td>\n",
       "      <td>2016-10-28T00:00:00Z</td>\n",
       "      <td>badoo.com</td>\n",
       "      <td>In June 2016, millions of accounts compromised...</td>\n",
       "    </tr>\n",
       "  </tbody>\n",
       "</table>\n",
       "</div>"
      ],
      "text/plain": [
       "                     email                  data            source  \\\n",
       "0  stepan.germak@gmail.com  2018-03-20T00:00:00Z  myfitnesspal.com   \n",
       "1         anna2012@mail.ru  2017-04-14T00:00:00Z   streamcraft.net   \n",
       "2         anna2012@mail.ru  2016-10-29T00:00:00Z            vk.com   \n",
       "3         anna2012@mail.ru  2016-10-21T00:00:00Z         adobe.com   \n",
       "4         anna2012@mail.ru  2016-10-28T00:00:00Z         badoo.com   \n",
       "\n",
       "                                                text  \n",
       "0  In February 2018, MyFitnessPal's database was ...  \n",
       "1  At an unconfirmed date, StreamCraft's user dat...  \n",
       "2  Popular Russian social networking platform VKo...  \n",
       "3  In October of 2013, criminals penetrated Adobe...  \n",
       "4  In June 2016, millions of accounts compromised...  "
      ]
     },
     "execution_count": 9,
     "metadata": {},
     "output_type": "execute_result"
    }
   ],
   "source": [
    "email_adresses = ['stepan.germak@gmail.com', 'anna2012@mail.ru',\n",
    "'office@darkont.ru']\n",
    "\n",
    "dc_email = {'email': [], 'data': [], 'source': [], 'text': []}\n",
    "\n",
    "for email in email_adresses:\n",
    "    url = 'https://identityprotection.avast.com/v1/web/query/site-breaches/unauthorized-data'\n",
    "    headers = {'Vaar-Header-App-Product': 'hackcheck-web-avast', 'Vaar-Version': '0'}\n",
    "    body = {\"emailAddresses\":[email]}\n",
    "    req = requests.post(url, headers=headers, data=json.dumps(body))\n",
    "    data = req.json()\n",
    "    for breach in data['breaches']:\n",
    "        dc_email['email'].append(email)\n",
    "        dc_email['data'].append(data['breaches'][breach]['publishDate']) \n",
    "        dc_email['source'].append(data['breaches'][breach]['site'])\n",
    "        dc_email['text'].append(data['breaches'][breach]['description'])          \n",
    "\n",
    "pd.DataFrame(dc_email)"
   ]
  },
  {
   "cell_type": "code",
   "execution_count": null,
   "metadata": {},
   "outputs": [],
   "source": []
  }
 ],
 "metadata": {
  "kernelspec": {
   "display_name": "Python 3",
   "language": "python",
   "name": "python3"
  },
  "language_info": {
   "codemirror_mode": {
    "name": "ipython",
    "version": 3
   },
   "file_extension": ".py",
   "mimetype": "text/x-python",
   "name": "python",
   "nbconvert_exporter": "python",
   "pygments_lexer": "ipython3",
   "version": "3.8.3"
  }
 },
 "nbformat": 4,
 "nbformat_minor": 4
}
